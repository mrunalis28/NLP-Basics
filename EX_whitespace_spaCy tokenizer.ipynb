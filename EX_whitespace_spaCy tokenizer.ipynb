{
 "cells": [
  {
   "cell_type": "markdown",
   "id": "501bbe10",
   "metadata": {},
   "source": [
    "Text= ”Just in a few years, natural language processing has evolved into something so powerful and impactful, which no one could have imagined.”\n",
    "\n",
    "Perform the following tasks on the above text:\n",
    "\n",
    "Task 1: ”Tokenize it using whitespace tokenizer.”\n",
    "\n",
    "Task 2: “Tokenize it using spacy’s tokenizer.”"
   ]
  },
  {
   "cell_type": "markdown",
   "id": "7899d2cb",
   "metadata": {},
   "source": [
    "## Task 1: ”Tokenize it using whitespace tokenizer.”"
   ]
  },
  {
   "cell_type": "code",
   "execution_count": 2,
   "id": "b22f4bd7",
   "metadata": {},
   "outputs": [],
   "source": [
    "from nltk.tokenize import WhitespaceTokenizer"
   ]
  },
  {
   "cell_type": "code",
   "execution_count": 3,
   "id": "68b7d483",
   "metadata": {},
   "outputs": [],
   "source": [
    "tk = WhitespaceTokenizer()"
   ]
  },
  {
   "cell_type": "code",
   "execution_count": 1,
   "id": "26103dec",
   "metadata": {},
   "outputs": [],
   "source": [
    "text = \"Just in a few years, natural language processing has evolved into something so powerful and impactful, which no one could have imagined.\""
   ]
  },
  {
   "cell_type": "code",
   "execution_count": 4,
   "id": "a61ab8e4",
   "metadata": {},
   "outputs": [],
   "source": [
    "var = tk.tokenize(text)"
   ]
  },
  {
   "cell_type": "code",
   "execution_count": 6,
   "id": "270773cf",
   "metadata": {},
   "outputs": [
    {
     "name": "stdout",
     "output_type": "stream",
     "text": [
      "['Just', 'in', 'a', 'few', 'years,', 'natural', 'language', 'processing', 'has', 'evolved', 'into', 'something', 'so', 'powerful', 'and', 'impactful,', 'which', 'no', 'one', 'could', 'have', 'imagined.']\n"
     ]
    }
   ],
   "source": [
    "print(var)"
   ]
  },
  {
   "cell_type": "markdown",
   "id": "ee88e20f",
   "metadata": {},
   "source": [
    "## Task 2: “Tokenize it using spacy’s tokenizer.”"
   ]
  },
  {
   "cell_type": "code",
   "execution_count": 8,
   "id": "837a6087",
   "metadata": {},
   "outputs": [],
   "source": [
    "import spacy"
   ]
  },
  {
   "cell_type": "code",
   "execution_count": 10,
   "id": "f3f196ca",
   "metadata": {},
   "outputs": [],
   "source": [
    "from spacy_download import load_spacy\n",
    "\n",
    "nlp = load_spacy(\"en_core_web_sm\", exclude=[\"parser\", \"tagger\"])  # Will download the model if it isn't installed yet"
   ]
  },
  {
   "cell_type": "code",
   "execution_count": 11,
   "id": "0036e783",
   "metadata": {},
   "outputs": [
    {
     "name": "stderr",
     "output_type": "stream",
     "text": [
      "C:\\Users\\MRUNALII\\anaconda3\\lib\\site-packages\\spacy\\pipeline\\lemmatizer.py:211: UserWarning: [W108] The rule-based lemmatizer did not find POS annotation for one or more tokens. Check that your pipeline includes components that assign token.pos, typically 'tagger'+'attribute_ruler' or 'morphologizer'.\n",
      "  warnings.warn(Warnings.W108)\n"
     ]
    }
   ],
   "source": [
    "doc = nlp(text)"
   ]
  },
  {
   "cell_type": "code",
   "execution_count": 12,
   "id": "b029a964",
   "metadata": {},
   "outputs": [
    {
     "data": {
      "text/plain": [
       "Just in a few years, natural language processing has evolved into something so powerful and impactful, which no one could have imagined."
      ]
     },
     "execution_count": 12,
     "metadata": {},
     "output_type": "execute_result"
    }
   ],
   "source": [
    "doc "
   ]
  },
  {
   "cell_type": "code",
   "execution_count": 13,
   "id": "d1a8f329",
   "metadata": {},
   "outputs": [
    {
     "data": {
      "text/plain": [
       "spacy.tokens.doc.Doc"
      ]
     },
     "execution_count": 13,
     "metadata": {},
     "output_type": "execute_result"
    }
   ],
   "source": [
    "type(doc)"
   ]
  },
  {
   "cell_type": "code",
   "execution_count": 14,
   "id": "e2d782aa",
   "metadata": {},
   "outputs": [
    {
     "data": {
      "text/plain": [
       "[spacy.tokens.token.Token,\n",
       " spacy.tokens.token.Token,\n",
       " spacy.tokens.token.Token,\n",
       " spacy.tokens.token.Token,\n",
       " spacy.tokens.token.Token,\n",
       " spacy.tokens.token.Token,\n",
       " spacy.tokens.token.Token,\n",
       " spacy.tokens.token.Token,\n",
       " spacy.tokens.token.Token,\n",
       " spacy.tokens.token.Token,\n",
       " spacy.tokens.token.Token,\n",
       " spacy.tokens.token.Token,\n",
       " spacy.tokens.token.Token,\n",
       " spacy.tokens.token.Token,\n",
       " spacy.tokens.token.Token,\n",
       " spacy.tokens.token.Token,\n",
       " spacy.tokens.token.Token,\n",
       " spacy.tokens.token.Token,\n",
       " spacy.tokens.token.Token,\n",
       " spacy.tokens.token.Token,\n",
       " spacy.tokens.token.Token,\n",
       " spacy.tokens.token.Token,\n",
       " spacy.tokens.token.Token,\n",
       " spacy.tokens.token.Token,\n",
       " spacy.tokens.token.Token]"
      ]
     },
     "execution_count": 14,
     "metadata": {},
     "output_type": "execute_result"
    }
   ],
   "source": [
    "[type (token) for token in doc]"
   ]
  },
  {
   "cell_type": "code",
   "execution_count": 15,
   "id": "3b311048",
   "metadata": {},
   "outputs": [
    {
     "name": "stdout",
     "output_type": "stream",
     "text": [
      "['Just', 'in', 'a', 'few', 'years', ',', 'natural', 'language', 'processing', 'has', 'evolved', 'into', 'something', 'so', 'powerful', 'and', 'impactful', ',', 'which', 'no', 'one', 'could', 'have', 'imagined', '.']\n"
     ]
    }
   ],
   "source": [
    "#Type of token\n",
    "print([token.text for token in doc])"
   ]
  },
  {
   "cell_type": "code",
   "execution_count": 16,
   "id": "dbab0350",
   "metadata": {},
   "outputs": [
    {
     "name": "stdout",
     "output_type": "stream",
     "text": [
      "['Just', 'in', 'a', 'few', 'years,', 'natural', 'language', 'processing', 'has', 'evolved', 'into', 'something', 'so', 'powerful', 'and', 'impactful,', 'which', 'no', 'one', 'could', 'have', 'imagined.']\n",
      "['Just', 'in', 'a', 'few', 'years', ',', 'natural', 'language', 'processing', 'has', 'evolved', 'into', 'something', 'so', 'powerful', 'and', 'impactful', ',', 'which', 'no', 'one', 'could', 'have', 'imagined', '.']\n"
     ]
    }
   ],
   "source": [
    "\n",
    "print(text.split())\n",
    "print([token.text for token in doc])"
   ]
  },
  {
   "cell_type": "code",
   "execution_count": null,
   "id": "49d8bccd",
   "metadata": {},
   "outputs": [],
   "source": []
  }
 ],
 "metadata": {
  "kernelspec": {
   "display_name": "Python 3 (ipykernel)",
   "language": "python",
   "name": "python3"
  },
  "language_info": {
   "codemirror_mode": {
    "name": "ipython",
    "version": 3
   },
   "file_extension": ".py",
   "mimetype": "text/x-python",
   "name": "python",
   "nbconvert_exporter": "python",
   "pygments_lexer": "ipython3",
   "version": "3.9.12"
  }
 },
 "nbformat": 4,
 "nbformat_minor": 5
}
