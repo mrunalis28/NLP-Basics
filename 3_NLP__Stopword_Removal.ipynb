{
 "cells": [
  {
   "cell_type": "markdown",
   "metadata": {
    "id": "EzI8jcDjjMRp"
   },
   "source": [
    "### Problem:\n",
    "Suppose you have a text document which contains some information about a topic. But you don’t know what that topic is. Your challenge is to find out the topic without reading the text."
   ]
  },
  {
   "cell_type": "markdown",
   "metadata": {
    "id": "zUKgDMAljMRs"
   },
   "source": [
    "### Importing Data"
   ]
  },
  {
   "cell_type": "code",
   "execution_count": 3,
   "metadata": {
    "id": "KKB4IEesjMRt"
   },
   "outputs": [],
   "source": [
    "# Reading the file using open()\n",
    "file=open('moon.txt',mode='r',encoding='utf-8')\n",
    "\n",
    "# Getting text data as string\n",
    "text=file.read()\n",
    "\n",
    "# Closing the file\n",
    "file.close()"
   ]
  },
  {
   "cell_type": "code",
   "execution_count": 4,
   "metadata": {
    "colab": {
     "base_uri": "https://localhost:8080/",
     "height": 72
    },
    "id": "xKBl_W5BjMR3",
    "outputId": "35fb911c-d887-4f4b-bcbf-0525ecc255ec"
   },
   "outputs": [
    {
     "name": "stdout",
     "output_type": "stream",
     "text": [
      "The moon is the satellite of the earth. It moves round the earth. It shines at night by light reflected from the Sun. It looks beautiful. The bright Moonlight is very soothing. The earthly objects shine like silver in the moonlight. We are fascinated by the enchanting beauty of the Moon. The moon is not as beautiful as it looks. It seems to be lovely when it shines in the sky at night. As a matter of fact it is devoid of plants and animals. The moon is not a suitable place for plants and animals. Therefore, no form of life can be found on the moon. Unlike the earth, the moon has got no atmosphere. Therefore, the lunar days are very hot and the lunar nights are intensely cold. The moon looks beautiful from the earth but in fact it has up forbidding appearance. It is full of rocks and craters. When we look at the moon at night we see some dark spots on it. These dark spots are dangerous rocks and craters. The gravitational pull of the moon is less than that of the earth, so it is difficult to walk on the surface of the Moon. The moon has fascinated man since the beginning of his life on the earth. He has looked at it with wonder. Many poets have composed beautiful poems on the moon. Scientists tried to reveal the mystery of the moon. They wanted to send human to the moon. Several attempts were made to place man on the moon. At last two Americans-Neil Armstrong and Edwin Aldrin-reached the moon on July 21, 1969. They walked on the surface of the moon and collected the lunar rocks. They returned to the earth safely. The American scientists have sent men to the moon several times. Now the moon has been conquered by man. It is no longer a mysterious object. The journey of the moon may be thrilling but it cannot make our life on the earth happy. It is better to have a happy life on the earth then to go to the moon.\n",
      "\n"
     ]
    }
   ],
   "source": [
    "print(text)"
   ]
  },
  {
   "cell_type": "markdown",
   "metadata": {
    "id": "V-0V200UjMSA"
   },
   "source": [
    "### Cleaning Text"
   ]
  },
  {
   "cell_type": "code",
   "execution_count": 5,
   "metadata": {
    "id": "soM8GnGYjMSC"
   },
   "outputs": [],
   "source": [
    "import re\n",
    "\n",
    "# Function for cleaning text\n",
    "def clean_text(text):\n",
    "    \n",
    "    # Lowercasing the text\n",
    "    text=text.lower()\n",
    "    \n",
    "    # Removing comma(,), period(.) and newline character(\\n)\n",
    "    text=re.sub('[,.\\n]','',text)\n",
    "    \n",
    "    # Replacing hypen with blank space\n",
    "    text=re.sub('-',' ',text)\n",
    "    \n",
    "    return text"
   ]
  },
  {
   "cell_type": "code",
   "execution_count": 7,
   "metadata": {
    "id": "GmNmEobGjMSK"
   },
   "outputs": [],
   "source": [
    "# Cleaning Text\n",
    "cleaned_text=clean_text(text)"
   ]
  },
  {
   "cell_type": "code",
   "execution_count": 8,
   "metadata": {
    "colab": {
     "base_uri": "https://localhost:8080/"
    },
    "id": "e414kJRcjMSR",
    "outputId": "6203c966-4557-4cbf-bc48-e891106044b6",
    "scrolled": true
   },
   "outputs": [
    {
     "name": "stdout",
     "output_type": "stream",
     "text": [
      "the moon is the satellite of the earth it moves round the earth it shines at night by light reflected from the sun it looks beautiful the bright moonlight is very soothing the earthly objects shine like silver in the moonlight we are fascinated by the enchanting beauty of the moon the moon is not as beautiful as it looks it seems to be lovely when it shines in the sky at night as a matter of fact it is devoid of plants and animals the moon is not a suitable place for plants and animals therefore no form of life can be found on the moon unlike the earth the moon has got no atmosphere therefore the lunar days are very hot and the lunar nights are intensely cold the moon looks beautiful from the earth but in fact it has up forbidding appearance it is full of rocks and craters when we look at the moon at night we see some dark spots on it these dark spots are dangerous rocks and craters the gravitational pull of the moon is less than that of the earth so it is difficult to walk on the surface of the moon the moon has fascinated man since the beginning of his life on the earth he has looked at it with wonder many poets have composed beautiful poems on the moon scientists tried to reveal the mystery of the moon they wanted to send human to the moon several attempts were made to place man on the moon at last two americans neil armstrong and edwin aldrin reached the moon on july 21 1969 they walked on the surface of the moon and collected the lunar rocks they returned to the earth safely the american scientists have sent men to the moon several times now the moon has been conquered by man it is no longer a mysterious object the journey of the moon may be thrilling but it cannot make our life on the earth happy it is better to have a happy life on the earth then to go to the moon\n"
     ]
    }
   ],
   "source": [
    "print(cleaned_text)"
   ]
  },
  {
   "cell_type": "markdown",
   "metadata": {
    "id": "WriafAxkjMSZ"
   },
   "source": [
    "### Finding most frequent words"
   ]
  },
  {
   "cell_type": "code",
   "execution_count": 9,
   "metadata": {
    "id": "y8GzArozjMSa"
   },
   "outputs": [],
   "source": [
    "import spacy"
   ]
  },
  {
   "cell_type": "code",
   "execution_count": 10,
   "metadata": {
    "id": "L8cB_TuZjMSj"
   },
   "outputs": [],
   "source": [
    "# Loading spacy model\n",
    "nlp=spacy.load('en_core_web_sm')"
   ]
  },
  {
   "cell_type": "code",
   "execution_count": 11,
   "metadata": {
    "id": "qbfayY10jMSq"
   },
   "outputs": [],
   "source": [
    "# creating doc object\n",
    "doc=nlp(cleaned_text)"
   ]
  },
  {
   "cell_type": "code",
   "execution_count": 17,
   "metadata": {
    "id": "Fn07QonpjMSx"
   },
   "outputs": [],
   "source": [
    "words_dict={}\n",
    "\n",
    "# Add word-count pair to the dictionary\n",
    "for token in doc:\n",
    "    # Check if the word is already in dictionary \n",
    "    if token.text in words_dict:\n",
    "        # Increment count of word by 1 \n",
    "        words_dict[token.text]=words_dict[token.text]+1\n",
    "    else:\n",
    "        # Add the word to dictionary with count 1 \n",
    "        words_dict[token.text]=1"
   ]
  },
  {
   "cell_type": "code",
   "execution_count": 18,
   "metadata": {
    "id": "LlUPAv04jMS4"
   },
   "outputs": [],
   "source": [
    "import pandas as pd"
   ]
  },
  {
   "cell_type": "code",
   "execution_count": 14,
   "metadata": {
    "id": "R0xNmXfIjMTC"
   },
   "outputs": [],
   "source": [
    "# Creating a dataframe from dictionary\n",
    "df = pd.DataFrame({'word':list(words_dict.keys()), 'count':list(words_dict.values())})"
   ]
  },
  {
   "cell_type": "code",
   "execution_count": 15,
   "metadata": {
    "id": "_pUPu1Z2jMTK"
   },
   "outputs": [],
   "source": [
    "# Sorting dataframe in descending order\n",
    "df.sort_values(by='count',ascending=False,inplace=True,ignore_index=True)"
   ]
  },
  {
   "cell_type": "code",
   "execution_count": 19,
   "metadata": {
    "colab": {
     "base_uri": "https://localhost:8080/",
     "height": 224
    },
    "id": "-S36E8RSjMTQ",
    "outputId": "724e2dcc-1490-4bde-de27-8618d900ef61"
   },
   "outputs": [
    {
     "name": "stdout",
     "output_type": "stream",
     "text": [
      "Shape=> (151, 2)\n"
     ]
    },
    {
     "data": {
      "text/html": [
       "<div>\n",
       "<style scoped>\n",
       "    .dataframe tbody tr th:only-of-type {\n",
       "        vertical-align: middle;\n",
       "    }\n",
       "\n",
       "    .dataframe tbody tr th {\n",
       "        vertical-align: top;\n",
       "    }\n",
       "\n",
       "    .dataframe thead th {\n",
       "        text-align: right;\n",
       "    }\n",
       "</style>\n",
       "<table border=\"1\" class=\"dataframe\">\n",
       "  <thead>\n",
       "    <tr style=\"text-align: right;\">\n",
       "      <th></th>\n",
       "      <th>word</th>\n",
       "      <th>count</th>\n",
       "    </tr>\n",
       "  </thead>\n",
       "  <tbody>\n",
       "    <tr>\n",
       "      <th>0</th>\n",
       "      <td>the</td>\n",
       "      <td>47</td>\n",
       "    </tr>\n",
       "    <tr>\n",
       "      <th>1</th>\n",
       "      <td>moon</td>\n",
       "      <td>21</td>\n",
       "    </tr>\n",
       "    <tr>\n",
       "      <th>2</th>\n",
       "      <td>it</td>\n",
       "      <td>15</td>\n",
       "    </tr>\n",
       "    <tr>\n",
       "      <th>3</th>\n",
       "      <td>of</td>\n",
       "      <td>13</td>\n",
       "    </tr>\n",
       "    <tr>\n",
       "      <th>4</th>\n",
       "      <td>to</td>\n",
       "      <td>11</td>\n",
       "    </tr>\n",
       "  </tbody>\n",
       "</table>\n",
       "</div>"
      ],
      "text/plain": [
       "   word  count\n",
       "0   the     47\n",
       "1  moon     21\n",
       "2    it     15\n",
       "3    of     13\n",
       "4    to     11"
      ]
     },
     "execution_count": 19,
     "metadata": {},
     "output_type": "execute_result"
    }
   ],
   "source": [
    "print('Shape=>',df.shape)\n",
    "df.head(5)"
   ]
  },
  {
   "cell_type": "markdown",
   "metadata": {
    "id": "g4vxGVA6jMTX"
   },
   "source": [
    "# What are Stop words?\n",
    "Stopwords are the most common words in a language which are added to make things more understandable to humans. Like in English we have `a, an, the, for, where, when, at,` etc. These words are removed during text pre-processing phase because these words do not add much value to the meaning of the document."
   ]
  },
  {
   "cell_type": "markdown",
   "metadata": {
    "id": "CWf28EKbjMTY"
   },
   "source": [
    "Consider a sample sentence:\n",
    "##### String: \"There is a pen on the table.\"\n",
    "##### Stopwords: \\[\"There\", \"is\", \"a\", \"on\", \"the\" \\]\n",
    "##### Meaningful words: \\[\"pen\", \"table\"\\]"
   ]
  },
  {
   "cell_type": "code",
   "execution_count": 20,
   "metadata": {
    "colab": {
     "base_uri": "https://localhost:8080/"
    },
    "id": "xtGE36DsjMTZ",
    "outputId": "89e733ca-2746-4383-8a25-36c27cd2cc74"
   },
   "outputs": [
    {
     "name": "stdout",
     "output_type": "stream",
     "text": [
      "{'two', 'somewhere', 'all', '‘s', 'it', 'should', 'only', 'not', 'via', 'their', 'at', 'namely', 'using', 'ourselves', 'nevertheless', 'between', '‘m', 'he', 'go', 'forty', 'perhaps', 'then', 'whereupon', 'own', 'nowhere', 'could', 'sixty', 'seemed', 'still', 'fifteen', 'yourselves', 'neither', 'himself', '’ll', 'sometime', 'with', 'she', 'yourself', 'them', 'ever', 'latter', 'bottom', 'sometimes', 'few', 'might', 'moreover', 'mostly', '’d', 'keep', 'really', 'are', 'within', 'move', 'very', 'if', 'seems', 'former', 'hereupon', 'out', 'due', 'below', 'now', 'nine', 'thereby', 'each', 'hereby', 'my', 'first', 'these', 'unless', 'everyone', 'most', 'nobody', 'several', 'both', 'one', 'our', '‘ll', 'hence', 'much', 'herself', 'someone', 'have', '’s', 'nothing', 'becomes', 'themselves', 'around', 'done', 'above', 'becoming', 'anywhere', 'n‘t', 'whose', 'seem', 'whereby', 'against', 'just', 'about', 'they', \"n't\", 'whither', 'amongst', 'call', 'whereafter', 'hundred', 'must', 'back', 'doing', 'every', 'part', 'whatever', 'last', 'except', 'down', 'make', 'did', 'twenty', 'alone', 'whoever', 'do', 'many', 'further', 'seeming', 'that', 'together', 'where', 'upon', 'when', 'since', 'hereafter', 'how', 'whereas', 'those', 'but', 'other', 'formerly', 'wherein', 'until', 'nor', 'had', 'toward', 'the', 'whenever', 'three', 'per', 'we', 'six', 'an', '’m', 'eight', 'noone', 'quite', 'else', 'either', 'which', 'least', '’re', 'him', 'never', 're', 'towards', 'meanwhile', '‘d', 'thru', 'anyway', 'side', 'regarding', 'therefore', 'less', 'more', 'myself', 'enough', 'n’t', '‘re', 'therein', 'been', 'behind', 'across', 'on', 'show', 'under', 'name', 'ten', 'hers', 'give', 'onto', 'a', 'and', 'us', 'anyhow', 'get', 'i', 'already', 'everywhere', 'put', 'twelve', 'next', 'along', 'so', 'take', 'were', 'serious', 'up', '‘ve', 'again', 'is', 'somehow', 'indeed', 'because', 'by', 'yours', 'cannot', 'however', 'why', 'whom', 'no', 'fifty', 'often', 'third', 'over', 'top', 'as', 'thereupon', 'some', 'off', 'during', 'or', 'throughout', 'another', 'though', 'what', 'mine', 'thereafter', 'her', \"'re\", 'has', 'was', 'through', 'me', 'in', 'will', \"'s\", 'made', \"'m\", 'thus', 'herein', 'here', 'its', 'there', 'become', 'without', 'none', 'amount', 'besides', 'whence', 'afterwards', 'everything', 'please', 'to', \"'ve\", 'any', 'his', 'who', 'beforehand', 'am', 'be', 'became', 'does', 'various', 'among', 'latterly', 'beside', 'for', 'anything', 'ours', 'front', 'than', 'see', 'say', 'wherever', 'while', 'can', 'you', 'eleven', 'after', 'once', 'almost', 'yet', 'before', 'into', 'same', 'otherwise', 'whether', 'elsewhere', 'from', 'used', 'also', 'anyone', 'your', 'five', 'even', \"'d\", 'empty', 'may', 'thence', 'this', 'whole', 'itself', 'being', 'too', '’ve', 'rather', 'of', 'always', 'ca', 'four', 'although', 'something', 'beyond', 'others', 'such', \"'ll\", 'full', 'well', 'would'}\n"
     ]
    }
   ],
   "source": [
    "print(nlp.Defaults.stop_words)"
   ]
  },
  {
   "cell_type": "code",
   "execution_count": 21,
   "metadata": {
    "colab": {
     "base_uri": "https://localhost:8080/"
    },
    "id": "AZiEJcOdjMTh",
    "outputId": "bc1f64cc-4e41-4efc-e91c-cc4ba6a26e16"
   },
   "outputs": [
    {
     "data": {
      "text/plain": [
       "326"
      ]
     },
     "execution_count": 21,
     "metadata": {},
     "output_type": "execute_result"
    }
   ],
   "source": [
    "len(nlp.Defaults.stop_words)"
   ]
  },
  {
   "cell_type": "code",
   "execution_count": 22,
   "metadata": {
    "id": "xNM96GQajMTn"
   },
   "outputs": [],
   "source": [
    "# Getting words that are not stopwords\n",
    "new_tokens=[token.text for token in doc if (token.is_stop == False)]"
   ]
  },
  {
   "cell_type": "code",
   "execution_count": 23,
   "metadata": {
    "colab": {
     "base_uri": "https://localhost:8080/"
    },
    "id": "BgfTMFNBjMTu",
    "outputId": "3817c6b5-3c84-433a-fe46-4113439e2335"
   },
   "outputs": [
    {
     "name": "stdout",
     "output_type": "stream",
     "text": [
      "['moon', 'satellite', 'earth', 'moves', 'round', 'earth', 'shines', 'night', 'light', 'reflected', 'sun', 'looks', 'beautiful', 'bright', 'moonlight', 'soothing', 'earthly', 'objects', 'shine', 'like', 'silver', 'moonlight', 'fascinated', 'enchanting', 'beauty', 'moon', 'moon', 'beautiful', 'looks', 'lovely', 'shines', 'sky', 'night', 'matter', 'fact', 'devoid', 'plants', 'animals', 'moon', 'suitable', 'place', 'plants', 'animals', 'form', 'life', 'found', 'moon', 'unlike', 'earth', 'moon', 'got', 'atmosphere', 'lunar', 'days', 'hot', 'lunar', 'nights', 'intensely', 'cold', 'moon', 'looks', 'beautiful', 'earth', 'fact', 'forbidding', 'appearance', 'rocks', 'craters', 'look', 'moon', 'night', 'dark', 'spots', 'dark', 'spots', 'dangerous', 'rocks', 'craters', 'gravitational', 'pull', 'moon', 'earth', 'difficult', 'walk', 'surface', 'moon', 'moon', 'fascinated', 'man', 'beginning', 'life', 'earth', 'looked', 'wonder', 'poets', 'composed', 'beautiful', 'poems', 'moon', 'scientists', 'tried', 'reveal', 'mystery', 'moon', 'wanted', 'send', 'human', 'moon', 'attempts', 'place', 'man', 'moon', 'americans', 'neil', 'armstrong', 'edwin', 'aldrin', 'reached', 'moon', 'july', '21', '1969', 'walked', 'surface', 'moon', 'collected', 'lunar', 'rocks', 'returned', 'earth', 'safely', 'american', 'scientists', 'sent', 'men', 'moon', 'times', 'moon', 'conquered', 'man', 'longer', 'mysterious', 'object', 'journey', 'moon', 'thrilling', 'life', 'earth', 'happy', 'better', 'happy', 'life', 'earth', 'moon']\n"
     ]
    }
   ],
   "source": [
    "print(new_tokens)"
   ]
  },
  {
   "cell_type": "code",
   "execution_count": 24,
   "metadata": {
    "id": "pzxU8YlCjMT2"
   },
   "outputs": [],
   "source": [
    "new_words_dict={}\n",
    "\n",
    "# Add word-count pair to the dictionary\n",
    "for token in new_tokens:\n",
    "    # Check if the word is already in dictionary \n",
    "    if token in new_words_dict:\n",
    "        # Increment count of word by 1\n",
    "        new_words_dict[token] = new_words_dict[token]+1\n",
    "    else:\n",
    "        # Add the word to dictionary with count 1 \n",
    "        new_words_dict[token]=1"
   ]
  },
  {
   "cell_type": "code",
   "execution_count": 25,
   "metadata": {
    "id": "-SeZA9LxjMT9"
   },
   "outputs": [],
   "source": [
    "# Creating a dataframe from dictionary\n",
    "new_df = pd.DataFrame({'word':list(new_words_dict.keys()), 'count':list(new_words_dict.values())})"
   ]
  },
  {
   "cell_type": "code",
   "execution_count": 26,
   "metadata": {
    "id": "02CmVFwPjMUD"
   },
   "outputs": [],
   "source": [
    "# Sorting dataframe in descending order\n",
    "new_df.sort_values(by='count',ascending=False,inplace=True,ignore_index=True)"
   ]
  },
  {
   "cell_type": "code",
   "execution_count": 27,
   "metadata": {
    "colab": {
     "base_uri": "https://localhost:8080/",
     "height": 224
    },
    "id": "NR9Z9i_SjMUK",
    "outputId": "b403d397-6dff-4d83-941d-7f85ab476cbd",
    "scrolled": true
   },
   "outputs": [
    {
     "name": "stdout",
     "output_type": "stream",
     "text": [
      "Shape=> (97, 2)\n"
     ]
    },
    {
     "data": {
      "text/html": [
       "<div>\n",
       "<style scoped>\n",
       "    .dataframe tbody tr th:only-of-type {\n",
       "        vertical-align: middle;\n",
       "    }\n",
       "\n",
       "    .dataframe tbody tr th {\n",
       "        vertical-align: top;\n",
       "    }\n",
       "\n",
       "    .dataframe thead th {\n",
       "        text-align: right;\n",
       "    }\n",
       "</style>\n",
       "<table border=\"1\" class=\"dataframe\">\n",
       "  <thead>\n",
       "    <tr style=\"text-align: right;\">\n",
       "      <th></th>\n",
       "      <th>word</th>\n",
       "      <th>count</th>\n",
       "    </tr>\n",
       "  </thead>\n",
       "  <tbody>\n",
       "    <tr>\n",
       "      <th>0</th>\n",
       "      <td>moon</td>\n",
       "      <td>21</td>\n",
       "    </tr>\n",
       "    <tr>\n",
       "      <th>1</th>\n",
       "      <td>earth</td>\n",
       "      <td>9</td>\n",
       "    </tr>\n",
       "    <tr>\n",
       "      <th>2</th>\n",
       "      <td>life</td>\n",
       "      <td>4</td>\n",
       "    </tr>\n",
       "    <tr>\n",
       "      <th>3</th>\n",
       "      <td>beautiful</td>\n",
       "      <td>4</td>\n",
       "    </tr>\n",
       "    <tr>\n",
       "      <th>4</th>\n",
       "      <td>looks</td>\n",
       "      <td>3</td>\n",
       "    </tr>\n",
       "  </tbody>\n",
       "</table>\n",
       "</div>"
      ],
      "text/plain": [
       "        word  count\n",
       "0       moon     21\n",
       "1      earth      9\n",
       "2       life      4\n",
       "3  beautiful      4\n",
       "4      looks      3"
      ]
     },
     "execution_count": 27,
     "metadata": {},
     "output_type": "execute_result"
    }
   ],
   "source": [
    "print('Shape=>',new_df.shape)\n",
    "new_df.head(5)"
   ]
  },
  {
   "cell_type": "code",
   "execution_count": 28,
   "metadata": {},
   "outputs": [
    {
     "data": {
      "text/html": [
       "<div>\n",
       "<style scoped>\n",
       "    .dataframe tbody tr th:only-of-type {\n",
       "        vertical-align: middle;\n",
       "    }\n",
       "\n",
       "    .dataframe tbody tr th {\n",
       "        vertical-align: top;\n",
       "    }\n",
       "\n",
       "    .dataframe thead th {\n",
       "        text-align: right;\n",
       "    }\n",
       "</style>\n",
       "<table border=\"1\" class=\"dataframe\">\n",
       "  <thead>\n",
       "    <tr style=\"text-align: right;\">\n",
       "      <th></th>\n",
       "      <th>word</th>\n",
       "      <th>count</th>\n",
       "    </tr>\n",
       "  </thead>\n",
       "  <tbody>\n",
       "    <tr>\n",
       "      <th>0</th>\n",
       "      <td>moon</td>\n",
       "      <td>21</td>\n",
       "    </tr>\n",
       "    <tr>\n",
       "      <th>1</th>\n",
       "      <td>earth</td>\n",
       "      <td>9</td>\n",
       "    </tr>\n",
       "    <tr>\n",
       "      <th>2</th>\n",
       "      <td>life</td>\n",
       "      <td>4</td>\n",
       "    </tr>\n",
       "    <tr>\n",
       "      <th>3</th>\n",
       "      <td>beautiful</td>\n",
       "      <td>4</td>\n",
       "    </tr>\n",
       "    <tr>\n",
       "      <th>4</th>\n",
       "      <td>looks</td>\n",
       "      <td>3</td>\n",
       "    </tr>\n",
       "    <tr>\n",
       "      <th>...</th>\n",
       "      <td>...</td>\n",
       "      <td>...</td>\n",
       "    </tr>\n",
       "    <tr>\n",
       "      <th>92</th>\n",
       "      <td>atmosphere</td>\n",
       "      <td>1</td>\n",
       "    </tr>\n",
       "    <tr>\n",
       "      <th>93</th>\n",
       "      <td>got</td>\n",
       "      <td>1</td>\n",
       "    </tr>\n",
       "    <tr>\n",
       "      <th>94</th>\n",
       "      <td>unlike</td>\n",
       "      <td>1</td>\n",
       "    </tr>\n",
       "    <tr>\n",
       "      <th>95</th>\n",
       "      <td>found</td>\n",
       "      <td>1</td>\n",
       "    </tr>\n",
       "    <tr>\n",
       "      <th>96</th>\n",
       "      <td>better</td>\n",
       "      <td>1</td>\n",
       "    </tr>\n",
       "  </tbody>\n",
       "</table>\n",
       "<p>97 rows × 2 columns</p>\n",
       "</div>"
      ],
      "text/plain": [
       "          word  count\n",
       "0         moon     21\n",
       "1        earth      9\n",
       "2         life      4\n",
       "3    beautiful      4\n",
       "4        looks      3\n",
       "..         ...    ...\n",
       "92  atmosphere      1\n",
       "93         got      1\n",
       "94      unlike      1\n",
       "95       found      1\n",
       "96      better      1\n",
       "\n",
       "[97 rows x 2 columns]"
      ]
     },
     "execution_count": 28,
     "metadata": {},
     "output_type": "execute_result"
    }
   ],
   "source": []
  },
  {
   "cell_type": "markdown",
   "metadata": {
    "id": "GWOTRwFcjMUQ"
   },
   "source": [
    "Due to stopwords a lot of resources get wasted in storing and pre-processing these. Removing them makes the process of analysis and model building faster because the corpus size gets reduced due to it."
   ]
  },
  {
   "cell_type": "markdown",
   "metadata": {
    "id": "woqTO9SzjMUR"
   },
   "source": [
    "## Remove Stopwords:\n",
    "- Text Classification\n",
    "- Caption Generation\n",
    "- Auto-Tag Generation\n",
    "\n",
    "## Don't Remove Stopwords:\n",
    "- Machine Translation\n",
    "- Language Modeling\n",
    "- Text Summarization\n",
    "- Question-Answering Problems"
   ]
  }
 ],
 "metadata": {
  "colab": {
   "collapsed_sections": [],
   "name": "3_NLP_ Stopword Removal.ipynb",
   "provenance": []
  },
  "kernelspec": {
   "display_name": "Python 3 (ipykernel)",
   "language": "python",
   "name": "python3"
  },
  "language_info": {
   "codemirror_mode": {
    "name": "ipython",
    "version": 3
   },
   "file_extension": ".py",
   "mimetype": "text/x-python",
   "name": "python",
   "nbconvert_exporter": "python",
   "pygments_lexer": "ipython3",
   "version": "3.9.12"
  }
 },
 "nbformat": 4,
 "nbformat_minor": 1
}
