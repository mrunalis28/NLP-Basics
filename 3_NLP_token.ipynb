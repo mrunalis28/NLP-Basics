{
 "cells": [
  {
   "cell_type": "code",
   "execution_count": 1,
   "metadata": {},
   "outputs": [],
   "source": [
    "from spacy.lang.en import English"
   ]
  },
  {
   "cell_type": "code",
   "execution_count": 8,
   "metadata": {},
   "outputs": [
    {
     "name": "stdout",
     "output_type": "stream",
     "text": [
      "Collecting spacy-download\n",
      "  Downloading spacy_download-1.0.0-py3-none-any.whl (3.5 kB)\n",
      "Requirement already satisfied: spacy<4 in c:\\users\\mrunalii\\anaconda3\\lib\\site-packages (from spacy-download) (3.4.1)\n",
      "Requirement already satisfied: numpy>=1.15.0 in c:\\users\\mrunalii\\anaconda3\\lib\\site-packages (from spacy<4->spacy-download) (1.21.5)\n",
      "Requirement already satisfied: srsly<3.0.0,>=2.4.3 in c:\\users\\mrunalii\\anaconda3\\lib\\site-packages (from spacy<4->spacy-download) (2.4.4)\n",
      "Requirement already satisfied: murmurhash<1.1.0,>=0.28.0 in c:\\users\\mrunalii\\anaconda3\\lib\\site-packages (from spacy<4->spacy-download) (1.0.7)\n",
      "Requirement already satisfied: pathy>=0.3.5 in c:\\users\\mrunalii\\anaconda3\\lib\\site-packages (from spacy<4->spacy-download) (0.6.2)\n",
      "Requirement already satisfied: preshed<3.1.0,>=3.0.2 in c:\\users\\mrunalii\\anaconda3\\lib\\site-packages (from spacy<4->spacy-download) (3.0.6)\n",
      "Requirement already satisfied: catalogue<2.1.0,>=2.0.6 in c:\\users\\mrunalii\\anaconda3\\lib\\site-packages (from spacy<4->spacy-download) (2.0.8)\n",
      "Requirement already satisfied: wasabi<1.1.0,>=0.9.1 in c:\\users\\mrunalii\\anaconda3\\lib\\site-packages (from spacy<4->spacy-download) (0.10.1)\n",
      "Requirement already satisfied: spacy-legacy<3.1.0,>=3.0.9 in c:\\users\\mrunalii\\anaconda3\\lib\\site-packages (from spacy<4->spacy-download) (3.0.9)\n",
      "Requirement already satisfied: requests<3.0.0,>=2.13.0 in c:\\users\\mrunalii\\anaconda3\\lib\\site-packages (from spacy<4->spacy-download) (2.27.1)\n",
      "Requirement already satisfied: pydantic!=1.8,!=1.8.1,<1.10.0,>=1.7.4 in c:\\users\\mrunalii\\anaconda3\\lib\\site-packages (from spacy<4->spacy-download) (1.9.1)\n",
      "Requirement already satisfied: cymem<2.1.0,>=2.0.2 in c:\\users\\mrunalii\\anaconda3\\lib\\site-packages (from spacy<4->spacy-download) (2.0.6)\n",
      "Requirement already satisfied: spacy-loggers<2.0.0,>=1.0.0 in c:\\users\\mrunalii\\anaconda3\\lib\\site-packages (from spacy<4->spacy-download) (1.0.3)\n",
      "Requirement already satisfied: packaging>=20.0 in c:\\users\\mrunalii\\anaconda3\\lib\\site-packages (from spacy<4->spacy-download) (21.3)\n",
      "Requirement already satisfied: typer<0.5.0,>=0.3.0 in c:\\users\\mrunalii\\anaconda3\\lib\\site-packages (from spacy<4->spacy-download) (0.4.2)\n",
      "Requirement already satisfied: tqdm<5.0.0,>=4.38.0 in c:\\users\\mrunalii\\anaconda3\\lib\\site-packages (from spacy<4->spacy-download) (4.64.0)\n",
      "Requirement already satisfied: setuptools in c:\\users\\mrunalii\\anaconda3\\lib\\site-packages (from spacy<4->spacy-download) (61.2.0)\n",
      "Requirement already satisfied: thinc<8.2.0,>=8.1.0 in c:\\users\\mrunalii\\anaconda3\\lib\\site-packages (from spacy<4->spacy-download) (8.1.0)\n",
      "Requirement already satisfied: jinja2 in c:\\users\\mrunalii\\anaconda3\\lib\\site-packages (from spacy<4->spacy-download) (2.11.3)\n",
      "Requirement already satisfied: langcodes<4.0.0,>=3.2.0 in c:\\users\\mrunalii\\anaconda3\\lib\\site-packages (from spacy<4->spacy-download) (3.3.0)\n",
      "Requirement already satisfied: pyparsing!=3.0.5,>=2.0.2 in c:\\users\\mrunalii\\anaconda3\\lib\\site-packages (from packaging>=20.0->spacy<4->spacy-download) (3.0.4)\n",
      "Requirement already satisfied: smart-open<6.0.0,>=5.2.1 in c:\\users\\mrunalii\\anaconda3\\lib\\site-packages (from pathy>=0.3.5->spacy<4->spacy-download) (5.2.1)\n",
      "Requirement already satisfied: typing-extensions>=3.7.4.3 in c:\\users\\mrunalii\\anaconda3\\lib\\site-packages (from pydantic!=1.8,!=1.8.1,<1.10.0,>=1.7.4->spacy<4->spacy-download) (4.1.1)\n",
      "Requirement already satisfied: urllib3<1.27,>=1.21.1 in c:\\users\\mrunalii\\anaconda3\\lib\\site-packages (from requests<3.0.0,>=2.13.0->spacy<4->spacy-download) (1.26.9)\n",
      "Requirement already satisfied: idna<4,>=2.5 in c:\\users\\mrunalii\\anaconda3\\lib\\site-packages (from requests<3.0.0,>=2.13.0->spacy<4->spacy-download) (3.3)\n",
      "Requirement already satisfied: certifi>=2017.4.17 in c:\\users\\mrunalii\\anaconda3\\lib\\site-packages (from requests<3.0.0,>=2.13.0->spacy<4->spacy-download) (2021.10.8)\n",
      "Requirement already satisfied: charset-normalizer~=2.0.0 in c:\\users\\mrunalii\\anaconda3\\lib\\site-packages (from requests<3.0.0,>=2.13.0->spacy<4->spacy-download) (2.0.4)\n",
      "Requirement already satisfied: blis<0.8.0,>=0.7.8 in c:\\users\\mrunalii\\anaconda3\\lib\\site-packages (from thinc<8.2.0,>=8.1.0->spacy<4->spacy-download) (0.7.8)\n",
      "Requirement already satisfied: colorama in c:\\users\\mrunalii\\anaconda3\\lib\\site-packages (from tqdm<5.0.0,>=4.38.0->spacy<4->spacy-download) (0.4.4)\n",
      "Requirement already satisfied: click<9.0.0,>=7.1.1 in c:\\users\\mrunalii\\anaconda3\\lib\\site-packages (from typer<0.5.0,>=0.3.0->spacy<4->spacy-download) (8.0.4)\n",
      "Requirement already satisfied: MarkupSafe>=0.23 in c:\\users\\mrunalii\\anaconda3\\lib\\site-packages (from jinja2->spacy<4->spacy-download) (2.0.1)\n",
      "Installing collected packages: spacy-download\n",
      "Successfully installed spacy-download-1.0.0\n"
     ]
    }
   ],
   "source": [
    "!pip install spacy-download"
   ]
  },
  {
   "cell_type": "code",
   "execution_count": 2,
   "metadata": {},
   "outputs": [
    {
     "name": "stdout",
     "output_type": "stream",
     "text": [
      "Requirement already satisfied: spacy in c:\\users\\mrunalii\\anaconda3\\lib\\site-packages (3.4.1)\n",
      "Collecting download\n",
      "  Downloading download-0.3.5-py3-none-any.whl (8.8 kB)\n"
     ]
    },
    {
     "name": "stderr",
     "output_type": "stream",
     "text": [
      "ERROR: Could not find a version that satisfies the requirement en_core_web_sm (from versions: none)\n",
      "ERROR: No matching distribution found for en_core_web_sm\n"
     ]
    }
   ],
   "source": [
    "!pip install -U spacy download en_core_web_sm"
   ]
  },
  {
   "cell_type": "code",
   "execution_count": 19,
   "metadata": {
    "id": "p6_S6di_RX6g"
   },
   "outputs": [],
   "source": [
    "text = \"I'm working as a Data Scientist in the U.S. and earning $140,000.\""
   ]
  },
  {
   "cell_type": "code",
   "execution_count": 20,
   "metadata": {
    "colab": {
     "base_uri": "https://localhost:8080/"
    },
    "id": "BSR1bATcRrDR",
    "outputId": "7fcadd69-7e76-47d6-e7be-b803fcf10ad8"
   },
   "outputs": [
    {
     "name": "stdout",
     "output_type": "stream",
     "text": [
      "[\"I'm\", 'working', 'as', 'a', 'Data', 'Scientist', 'in', 'the', 'U.S.', 'and', 'earning', '$140,000.']\n"
     ]
    }
   ],
   "source": [
    "#white space Tokenizer\n",
    "print(text.split())"
   ]
  },
  {
   "cell_type": "code",
   "execution_count": 21,
   "metadata": {
    "id": "CdTEQmwbRzR4"
   },
   "outputs": [],
   "source": [
    "#Loading model\n",
    "import spacy"
   ]
  },
  {
   "cell_type": "code",
   "execution_count": 22,
   "metadata": {
    "id": "7H8ReoUjSB1w"
   },
   "outputs": [],
   "source": [
    "from spacy_download import load_spacy\n",
    "\n",
    "nlp = load_spacy(\"en_core_web_sm\", exclude=[\"parser\", \"tagger\"])  # Will download the model if it isn't installed yet"
   ]
  },
  {
   "cell_type": "code",
   "execution_count": 23,
   "metadata": {
    "id": "Kzu1xT55SLch"
   },
   "outputs": [],
   "source": [
    "doc = nlp(text)"
   ]
  },
  {
   "cell_type": "code",
   "execution_count": 24,
   "metadata": {
    "colab": {
     "base_uri": "https://localhost:8080/"
    },
    "id": "eAHvlDKGSQFo",
    "outputId": "a42f0430-ed63-4413-9370-62b9d3a4614b"
   },
   "outputs": [
    {
     "data": {
      "text/plain": [
       "I'm working as a Data Scientist in the U.S. and earning $140,000."
      ]
     },
     "execution_count": 24,
     "metadata": {},
     "output_type": "execute_result"
    }
   ],
   "source": [
    "doc #document, not token"
   ]
  },
  {
   "cell_type": "code",
   "execution_count": 25,
   "metadata": {
    "colab": {
     "base_uri": "https://localhost:8080/"
    },
    "id": "uvbh6R09SQPR",
    "outputId": "6b04dd3d-2a1c-4dc8-dba7-ec694f21a24c"
   },
   "outputs": [
    {
     "data": {
      "text/plain": [
       "spacy.tokens.doc.Doc"
      ]
     },
     "execution_count": 25,
     "metadata": {},
     "output_type": "execute_result"
    }
   ],
   "source": [
    "type(doc)"
   ]
  },
  {
   "cell_type": "code",
   "execution_count": 26,
   "metadata": {
    "colab": {
     "base_uri": "https://localhost:8080/"
    },
    "id": "j7w1yhCMSQSU",
    "outputId": "1ae590d3-c10e-4a6d-c87c-a17ca02f2a58"
   },
   "outputs": [
    {
     "name": "stdout",
     "output_type": "stream",
     "text": [
      "[I, 'm, working, as, a, Data, Scientist, in, the, U.S., and, earning, $, 140,000, .]\n"
     ]
    }
   ],
   "source": [
    "#spacy Tokenizer  (token as object no string)\n",
    "print([token for token in doc])"
   ]
  },
  {
   "cell_type": "code",
   "execution_count": 27,
   "metadata": {
    "colab": {
     "base_uri": "https://localhost:8080/"
    },
    "id": "KsWLXmicSQUw",
    "outputId": "3ea2a701-3745-4d3d-c17f-8ee676d3be1a"
   },
   "outputs": [
    {
     "data": {
      "text/plain": [
       "[spacy.tokens.token.Token,\n",
       " spacy.tokens.token.Token,\n",
       " spacy.tokens.token.Token,\n",
       " spacy.tokens.token.Token,\n",
       " spacy.tokens.token.Token,\n",
       " spacy.tokens.token.Token,\n",
       " spacy.tokens.token.Token,\n",
       " spacy.tokens.token.Token,\n",
       " spacy.tokens.token.Token,\n",
       " spacy.tokens.token.Token,\n",
       " spacy.tokens.token.Token,\n",
       " spacy.tokens.token.Token,\n",
       " spacy.tokens.token.Token,\n",
       " spacy.tokens.token.Token,\n",
       " spacy.tokens.token.Token]"
      ]
     },
     "execution_count": 27,
     "metadata": {},
     "output_type": "execute_result"
    }
   ],
   "source": [
    "#Type of token\n",
    "[type (token) for token in doc]"
   ]
  },
  {
   "cell_type": "code",
   "execution_count": 28,
   "metadata": {
    "colab": {
     "base_uri": "https://localhost:8080/"
    },
    "id": "DH-kTvCUTwIj",
    "outputId": "f8ab1bc9-f71a-4120-861c-e2484af7cc32"
   },
   "outputs": [
    {
     "name": "stdout",
     "output_type": "stream",
     "text": [
      "['I', \"'m\", 'working', 'as', 'a', 'Data', 'Scientist', 'in', 'the', 'U.S.', 'and', 'earning', '$', '140,000', '.']\n"
     ]
    }
   ],
   "source": [
    "#Type of token\n",
    "print([token.text for token in doc])"
   ]
  },
  {
   "cell_type": "code",
   "execution_count": 29,
   "metadata": {
    "colab": {
     "base_uri": "https://localhost:8080/"
    },
    "id": "eSuvD2r5SQXw",
    "outputId": "c6f2a584-e38c-48b5-ef45-8a65dbfccf57"
   },
   "outputs": [
    {
     "name": "stdout",
     "output_type": "stream",
     "text": [
      "[\"I'm\", 'working', 'as', 'a', 'Data', 'Scientist', 'in', 'the', 'U.S.', 'and', 'earning', '$140,000.']\n",
      "['I', \"'m\", 'working', 'as', 'a', 'Data', 'Scientist', 'in', 'the', 'U.S.', 'and', 'earning', '$', '140,000', '.']\n"
     ]
    }
   ],
   "source": [
    "#Compare\n",
    "#white space Tokenizer\n",
    "print(text.split())\n",
    "#Sapcy token\n",
    "print([token.text for token in doc])"
   ]
  },
  {
   "cell_type": "code",
   "execution_count": null,
   "metadata": {
    "id": "f1sqdq46UtIF"
   },
   "outputs": [],
   "source": []
  },
  {
   "cell_type": "code",
   "execution_count": null,
   "metadata": {},
   "outputs": [],
   "source": []
  },
  {
   "cell_type": "code",
   "execution_count": null,
   "metadata": {},
   "outputs": [],
   "source": []
  },
  {
   "cell_type": "code",
   "execution_count": null,
   "metadata": {},
   "outputs": [],
   "source": []
  },
  {
   "cell_type": "code",
   "execution_count": null,
   "metadata": {},
   "outputs": [],
   "source": []
  }
 ],
 "metadata": {
  "colab": {
   "name": "3_NLP_token.ipynb",
   "provenance": []
  },
  "kernelspec": {
   "display_name": "Python 3 (ipykernel)",
   "language": "python",
   "name": "python3"
  },
  "language_info": {
   "codemirror_mode": {
    "name": "ipython",
    "version": 3
   },
   "file_extension": ".py",
   "mimetype": "text/x-python",
   "name": "python",
   "nbconvert_exporter": "python",
   "pygments_lexer": "ipython3",
   "version": "3.9.12"
  }
 },
 "nbformat": 4,
 "nbformat_minor": 1
}
