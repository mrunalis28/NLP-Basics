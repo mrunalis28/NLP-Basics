{
 "cells": [
  {
   "cell_type": "markdown",
   "id": "5d7e7255",
   "metadata": {},
   "source": [
    "You are provided with the following text:\n",
    "\n",
    "“Sam started learning NLP on 02-01-2020. He created his first self-project on 18-02-2019. After this, he worked hard and got an internship at ABC Pvt. Ltd. on 10-06-2019. Finally, he got his first job at XYZ Pvt. Ltd. on 22-10-2019.”\n",
    " Use the given text and perform the following tasks:\n",
    "\n",
    "Task 1: Correct year in all the dates to 2020\n",
    "\n",
    "Task 2: Extract all the dates in the form of a list.\n",
    "\n",
    "Task 3: Extract all the company names\n",
    "\n"
   ]
  },
  {
   "cell_type": "code",
   "execution_count": 3,
   "id": "6fef7a0b",
   "metadata": {},
   "outputs": [],
   "source": [
    "import pandas as pd "
   ]
  },
  {
   "cell_type": "code",
   "execution_count": 2,
   "id": "83ca5fef",
   "metadata": {},
   "outputs": [],
   "source": [
    "##library\n",
    "import re"
   ]
  },
  {
   "cell_type": "markdown",
   "id": "b7cced5d",
   "metadata": {},
   "source": [
    "\n",
    "## Task 1: Correct year in all the dates to 2020\n"
   ]
  },
  {
   "cell_type": "code",
   "execution_count": 8,
   "id": "2d4e68ec",
   "metadata": {},
   "outputs": [
    {
     "name": "stdout",
     "output_type": "stream",
     "text": [
      "Text after:\n",
      " Sam started learning NLP on 02-01-2020. He created his first self-project on 18-02-2020. After this, he worked hard and got an internship at ABC Pvt. Ltd. on 10-06-2020. Finally, he got his first job at XYZ Pvt. Ltd. on 22-10-2020.\n"
     ]
    }
   ],
   "source": [
    "\n",
    "text=\"Sam started learning NLP on 02-01-2020. He created his first self-project on 18-02-2019. After this, he worked hard and got an internship at ABC Pvt. Ltd. on 10-06-2019. Finally, he got his first job at XYZ Pvt. Ltd. on 22-10-2019.\"\n",
    "##sub()==> search and replace\n",
    "clean_text = re.sub('\\d{4}','2020', text)\n",
    "\n",
    "print(\"Text after:\\n\", clean_text)"
   ]
  },
  {
   "cell_type": "markdown",
   "id": "ad18b668",
   "metadata": {},
   "source": [
    "## Task 2: Extract all the dates in the form of a list."
   ]
  },
  {
   "cell_type": "code",
   "execution_count": 11,
   "id": "4286b865",
   "metadata": {},
   "outputs": [],
   "source": [
    "text=\"Sam started learning NLP on 02-01-2020. He created his first self-project on 18-02-2019. After this, he worked hard and got an internship at ABC Pvt. Ltd. on 10-06-2019. Finally, he got his first job at XYZ Pvt. Ltd. on 22-10-2019.\"\n",
    "dates=re.findall(' \\d{2}-\\d{1,2}-\\d{4}',text)"
   ]
  },
  {
   "cell_type": "code",
   "execution_count": 12,
   "id": "1395b032",
   "metadata": {},
   "outputs": [
    {
     "data": {
      "text/plain": [
       "[' 02-01-2020', ' 18-02-2019', ' 10-06-2019', ' 22-10-2019']"
      ]
     },
     "execution_count": 12,
     "metadata": {},
     "output_type": "execute_result"
    }
   ],
   "source": [
    "dates"
   ]
  },
  {
   "cell_type": "markdown",
   "id": "cec0ce65",
   "metadata": {},
   "source": [
    "## Task 3: Extract all the company names"
   ]
  },
  {
   "cell_type": "code",
   "execution_count": 64,
   "id": "8399aaf9",
   "metadata": {},
   "outputs": [
    {
     "data": {
      "text/plain": [
       "['ABC Pvt. Ltd.', 'XYZ Pvt. Ltd.']"
      ]
     },
     "execution_count": 64,
     "metadata": {},
     "output_type": "execute_result"
    }
   ],
   "source": [
    "text=\"Sam started learning NLP on 02-01-2020. He created his first self-project on 18-02-2019. After this, he worked hard and got an internship at ABC Pvt. Ltd. on 10-06-2019. Finally, he got his first job at XYZ Pvt. Ltd. on 22-10-2019.\"\n",
    "cnames=re.findall('[\\w]+ Pvt. Ltd.',text)\n",
    "cnames"
   ]
  },
  {
   "cell_type": "code",
   "execution_count": null,
   "id": "b72b0797",
   "metadata": {},
   "outputs": [],
   "source": []
  },
  {
   "cell_type": "code",
   "execution_count": null,
   "id": "8b1e09f7",
   "metadata": {},
   "outputs": [],
   "source": []
  }
 ],
 "metadata": {
  "kernelspec": {
   "display_name": "Python 3 (ipykernel)",
   "language": "python",
   "name": "python3"
  },
  "language_info": {
   "codemirror_mode": {
    "name": "ipython",
    "version": 3
   },
   "file_extension": ".py",
   "mimetype": "text/x-python",
   "name": "python",
   "nbconvert_exporter": "python",
   "pygments_lexer": "ipython3",
   "version": "3.9.12"
  }
 },
 "nbformat": 4,
 "nbformat_minor": 5
}
